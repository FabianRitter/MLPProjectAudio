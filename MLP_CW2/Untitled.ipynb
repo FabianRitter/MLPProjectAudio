{
 "cells": [
  {
   "cell_type": "code",
   "execution_count": 17,
   "metadata": {},
   "outputs": [],
   "source": [
    "import pickle\n",
    "import os\n",
    "import csv\n",
    "import datetime\n",
    "\n",
    "def save_parameters(experiment_name,args):\n",
    "\n",
    "        \n",
    "    now = datetime.datetime.now()\n",
    "    \n",
    "    file_name = str(experiment_name) + str(now) + '.txt'\n",
    "    f = open(file_name,'w')\n",
    "    f.write(args)\n",
    "    f.close()\n",
    "    "
   ]
  },
  {
   "cell_type": "code",
   "execution_count": 18,
   "metadata": {},
   "outputs": [],
   "source": [
    "save_parameters(\"aaa\")"
   ]
  },
  {
   "cell_type": "code",
   "execution_count": 19,
   "metadata": {},
   "outputs": [],
   "source": [
    "import argparse"
   ]
  },
  {
   "cell_type": "code",
   "execution_count": 22,
   "metadata": {},
   "outputs": [
    {
     "data": {
      "text/plain": [
       "_StoreAction(option_strings=['--num_epochs'], dest='num_epochs', nargs='?', const=None, default=100, type=<class 'int'>, choices=None, help=\"The experiment's epoch budget\", metavar=None)"
      ]
     },
     "execution_count": 22,
     "metadata": {},
     "output_type": "execute_result"
    }
   ],
   "source": [
    "parser = argparse.ArgumentParser(\n",
    "        description='Welcome to the MLP course\\'s Pytorch training and inference helper script')\n",
    "\n",
    "parser.add_argument('--num_epochs', nargs=\"?\", type=int, default=100, help='The experiment\\'s epoch budget')"
   ]
  },
  {
   "cell_type": "code",
   "execution_count": null,
   "metadata": {},
   "outputs": [],
   "source": [
    "('--batch_size', nargs=\"?\", type=int, default=100, help='Batch_size for experiment')\n",
    "('--continue_from_epoch', nargs=\"?\", type=int, default=-1, help='Batch_size for experiment')\n",
    "('--seed', nargs=\"?\", type=int, default=7112018,\n",
    " help='Seed to use for random number generator for experiment')\n",
    "('--image_num_channels', nargs=\"?\", type=int, default=1,\n",
    " help='The channel dimensionality of our image-data')\n",
    "('--image_height', nargs=\"?\", type=int, default=28, help='Height of image data')\n",
    "('--image_width', nargs=\"?\", type=int, default=28, help='Width of image data')\n",
    "('--dim_reduction_type', nargs=\"?\", type=str, default='strided_convolution',\n",
    " help='One of [strided_convolution, dilated_convolution, max_pooling, avg_pooling]')\n",
    "('--num_layers', nargs=\"?\", type=int, default=3,\n",
    " help='Number of convolutional layers in the network (excluding '\n",
    "      'dimensionality reduction layers)')\n",
    "('--num_filters', nargs=\"?\", type=int, default=64,\n",
    "  help='Number of convolutional filters per convolutional layer in the network (excluding '\n",
    "       'dimensionality reduction layers)')\n",
    "('--num_filters', nargs='+',help='Number of convolutional filters per convolutional layer in the network                         (excluding dimensionality reduction layers)')    \n",
    "('--kernel_size', nargs=\"?\", type=int, default=3,\n",
    " help='Number of convolutional layers in the network (excluding '\n",
    "      'dimensionality reduction layers)')\n",
    "('--num_epochs', nargs=\"?\", type=int, default=100, help='The experiment\\'s epoch budget')\n",
    "('--experiment_name', nargs=\"?\", type=str, default=\"exp_1\",\n",
    " help='Experiment name - to be used for building the experiment folder')\n",
    "('--use_gpu', nargs=\"?\", type=str2bool, default=False,\n",
    " help='A flag indicating whether we will use GPU acceleration or not')\n",
    "('--weight_decay_coefficient', nargs=\"?\", type=float, default=1e-05,\n",
    " help='Weight decay to use for Adam')"
   ]
  },
  {
   "cell_type": "code",
   "execution_count": 24,
   "metadata": {},
   "outputs": [],
   "source": [
    "l_ = [\"--batch_size\",\"--seed\",'--image_num_channels','--image_height','--image_width','--dim_reduction_type','--num_layers',\n",
    "     '--num_filters','--num_filters','--kernel_size','--num_epochs','--experiment_name','--use_gpu','--weight_decay_coefficient']"
   ]
  },
  {
   "cell_type": "code",
   "execution_count": null,
   "metadata": {},
   "outputs": [],
   "source": []
  }
 ],
 "metadata": {
  "kernelspec": {
   "display_name": "Python 3",
   "language": "python",
   "name": "python3"
  },
  "language_info": {
   "codemirror_mode": {
    "name": "ipython",
    "version": 3
   },
   "file_extension": ".py",
   "mimetype": "text/x-python",
   "name": "python",
   "nbconvert_exporter": "python",
   "pygments_lexer": "ipython3",
   "version": "3.7.0"
  }
 },
 "nbformat": 4,
 "nbformat_minor": 2
}
