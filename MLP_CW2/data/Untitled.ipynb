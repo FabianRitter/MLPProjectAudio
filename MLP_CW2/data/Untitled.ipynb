{
 "cells": [
  {
   "cell_type": "code",
   "execution_count": 1,
   "metadata": {},
   "outputs": [],
   "source": [
    "import h5py\n",
    "import numpy as np"
   ]
  },
  {
   "cell_type": "code",
   "execution_count": 2,
   "metadata": {},
   "outputs": [],
   "source": [
    "y_ = np.random.randint(low=0,high=19,size=130)\n",
    "\n",
    "x_1 =np.random.random((64,100))\n",
    "x_2 =np.random.random((64,100))\n",
    "x_3 =np.random.random((2,100))"
   ]
  },
  {
   "cell_type": "code",
   "execution_count": 6,
   "metadata": {},
   "outputs": [],
   "source": [
    "hdf5_store = h5py.File('test.hdf5', \"w\")\n",
    "\n",
    "all_inputs = hdf5_store.create_dataset(\"all_inputs\" , (130,100), chunks= (64, 100)   ,compression=\"gzip\")  \n",
    "targets = hdf5_store.create_dataset(\"targets\", data = y_ ,compression=\"gzip\")\n",
    "\n",
    "all_inputs[0:64] = x_1\n",
    "all_inputs[64:128] = x_2\n",
    "all_inputs[128:] = x_3\n",
    "hdf5_store.close()"
   ]
  },
  {
   "cell_type": "code",
   "execution_count": 10,
   "metadata": {},
   "outputs": [],
   "source": [
    "hdf5_store = h5py.File('train.hdf5', \"w\")\n",
    "\n",
    "all_inputs = hdf5_store.create_dataset(\"all_inputs\" , (64,2048000), chunks= (64, 2048000)   ,compression=\"gzip\")  \n",
    "targets = hdf5_store.create_dataset(\"targets\", data = y_ ,compression=\"gzip\")\n",
    "\n",
    "all_inputs[0:64] = x_1\n",
    "all_inputs[64:] = x_2\n",
    "hdf5_store.close()"
   ]
  },
  {
   "cell_type": "code",
   "execution_count": null,
   "metadata": {},
   "outputs": [],
   "source": [
    "hdf5_store = h5py.File('val.hdf5', \"w\")\n",
    "\n",
    "all_inputs = hdf5_store.create_dataset(\"all_inputs\" , (64,2048000), chunks= (64, 2048000)   ,compression=\"gzip\")  \n",
    "targets = hdf5_store.create_dataset(\"targets\", data = y_ ,compression=\"gzip\")\n",
    "\n",
    "all_inputs[0:64] = x_1\n",
    "all_inputs[64:] = x_2\n",
    "hdf5_store.close()"
   ]
  },
  {
   "cell_type": "code",
   "execution_count": 2,
   "metadata": {},
   "outputs": [],
   "source": [
    "hdf5_store = h5py.File('test.hdf5', \"r\")"
   ]
  },
  {
   "cell_type": "code",
   "execution_count": 3,
   "metadata": {},
   "outputs": [
    {
     "data": {
      "text/plain": [
       "(130, 100)"
      ]
     },
     "execution_count": 3,
     "metadata": {},
     "output_type": "execute_result"
    }
   ],
   "source": [
    "hdf5_store['all_inputs'][:].shape"
   ]
  },
  {
   "cell_type": "code",
   "execution_count": 30,
   "metadata": {},
   "outputs": [
    {
     "data": {
      "text/plain": [
       "array([[[0.09753415, 0.52080153, 0.1981691 , 0.06093873, 0.18866547],\n",
       "        [0.05333643, 0.32996561, 0.69657368, 0.84276217, 0.9296486 ],\n",
       "        [0.10994698, 0.45955305, 0.62849678, 0.98721867, 0.35848183]]])"
      ]
     },
     "execution_count": 30,
     "metadata": {},
     "output_type": "execute_result"
    }
   ],
   "source": [
    "x[0]"
   ]
  },
  {
   "cell_type": "code",
   "execution_count": 4,
   "metadata": {},
   "outputs": [
    {
     "data": {
      "text/plain": [
       "<KeysViewHDF5 ['all_inputs', 'targets']>"
      ]
     },
     "execution_count": 4,
     "metadata": {},
     "output_type": "execute_result"
    }
   ],
   "source": [
    "np.reshape(x_np, newshape=(self.batch_size, 3, 5)"
   ]
  },
  {
   "cell_type": "code",
   "execution_count": 8,
   "metadata": {},
   "outputs": [
    {
     "data": {
      "text/plain": [
       "(130, 100)"
      ]
     },
     "execution_count": 8,
     "metadata": {},
     "output_type": "execute_result"
    }
   ],
   "source": [
    "hdf5_store['all_inputs'][:].shape"
   ]
  },
  {
   "cell_type": "code",
   "execution_count": 21,
   "metadata": {},
   "outputs": [
    {
     "name": "stdout",
     "output_type": "stream",
     "text": [
      "0\n",
      "1\n",
      "2\n",
      "3\n"
     ]
    }
   ],
   "source": [
    "for i in range(4):\n",
    "    print(i)"
   ]
  },
  {
   "cell_type": "code",
   "execution_count": null,
   "metadata": {},
   "outputs": [],
   "source": []
  }
 ],
 "metadata": {
  "kernelspec": {
   "display_name": "Python 3",
   "language": "python",
   "name": "python3"
  },
  "language_info": {
   "codemirror_mode": {
    "name": "ipython",
    "version": 3
   },
   "file_extension": ".py",
   "mimetype": "text/x-python",
   "name": "python",
   "nbconvert_exporter": "python",
   "pygments_lexer": "ipython3",
   "version": "3.7.0"
  }
 },
 "nbformat": 4,
 "nbformat_minor": 2
}
